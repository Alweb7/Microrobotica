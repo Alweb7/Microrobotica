{
 "cells": [
  {
   "cell_type": "markdown",
   "id": "3aaf3586",
   "metadata": {},
   "source": [
    "## jupiter\n",
    "\n"
   ]
  },
  {
   "cell_type": "markdown",
   "id": "7faea045",
   "metadata": {},
   "source": [
    "google colab lo colleghiamo con jupiter si può fare che usa il server e la cpu di di google si può usare il lavoro collaborativo\n",
    "o anche junu\n",
    "\n",
    "## markdown"
   ]
  },
  {
   "cell_type": "markdown",
   "id": "d2a85947",
   "metadata": {},
   "source": [
    "si può trasformare in html (commonmarck.org fa vedere regole)\n",
    "opsidian serve per prentere appunti in markdown"
   ]
  },
  {
   "cell_type": "markdown",
   "id": "1805ce6e",
   "metadata": {},
   "source": [
    "## es"
   ]
  },
  {
   "cell_type": "markdown",
   "id": "1bb2827a",
   "metadata": {},
   "source": [
    "# titiolo\n",
    "## titolo\n",
    "### titolo\n",
    "\n",
    "questa è del testo. Questa è una parola *importante* ,**Questa**\n",
    "> questa è una citazione\n",
    "\n",
    "elenchi puntati:\n",
    "- 1\n",
    "- 2\n",
    "- 3\n",
    "---\n",
    "questo è un paragrafo\n",
    "questo è del codice\n",
    "\n",
    "    l=[1,2,3]\n",
    "    print(l)\n",
    "    for i in range(0,3):\n",
    "        print(l)\n",
    "    \n",
    "inserisci il codice"
   ]
  },
  {
   "cell_type": "code",
   "execution_count": null,
   "id": "c2353ab3",
   "metadata": {},
   "outputs": [],
   "source": []
  }
 ],
 "metadata": {
  "kernelspec": {
   "display_name": "Python 3 (ipykernel)",
   "language": "python",
   "name": "python3"
  },
  "language_info": {
   "codemirror_mode": {
    "name": "ipython",
    "version": 3
   },
   "file_extension": ".py",
   "mimetype": "text/x-python",
   "name": "python",
   "nbconvert_exporter": "python",
   "pygments_lexer": "ipython3",
   "version": "3.11.4"
  }
 },
 "nbformat": 4,
 "nbformat_minor": 5
}
