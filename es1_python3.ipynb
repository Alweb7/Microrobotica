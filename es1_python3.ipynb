{
 "cells": [
  {
   "cell_type": "markdown",
   "id": "bea75c3f",
   "metadata": {},
   "source": [
    "# Unprimo notebook\n",
    "#### il mio notebook\n",
    "\n"
   ]
  },
  {
   "cell_type": "code",
   "execution_count": 1,
   "id": "1c2a5136",
   "metadata": {},
   "outputs": [],
   "source": [
    "#iportazione delle librerie\n",
    "import matplotlib.pyplot as plt"
   ]
  },
  {
   "cell_type": "code",
   "execution_count": 2,
   "id": "3b2ea8b1",
   "metadata": {},
   "outputs": [
    {
     "name": "stdout",
     "output_type": "stream",
     "text": [
      "[1, 4, 9, 16, 25, 36, 49, 64, 81]\n"
     ]
    }
   ],
   "source": [
    "qudrati_perfetti=[]\n",
    "for i in range(1, 10):\n",
    "    qudrati_perfetti.append(i**2)\n",
    "print(qudrati_perfetti)"
   ]
  },
  {
   "cell_type": "code",
   "execution_count": 3,
   "id": "e371214b",
   "metadata": {},
   "outputs": [
    {
     "data": {
      "text/plain": [
       "[<matplotlib.lines.Line2D at 0x28ac4ce94d0>]"
      ]
     },
     "execution_count": 3,
     "metadata": {},
     "output_type": "execute_result"
    },
    {
     "data": {
      "image/png": "[encoded data removed]",
      "text/plain": [
       "<Figure size 640x480 with 1 Axes>"
      ]
     },
     "metadata": {},
     "output_type": "display_data"
    }
   ],
   "source": [
    "plt.plot(qudrati_perfetti)\n",
    "\n"
   ]
  },
  {
   "cell_type": "markdown",
   "id": "a1efcf82",
   "metadata": {},
   "source": [
    "### List conprention"
   ]
  },
  {
   "cell_type": "code",
   "execution_count": 4,
   "id": "97a39510",
   "metadata": {},
   "outputs": [
    {
     "name": "stdout",
     "output_type": "stream",
     "text": [
      "ciao [1, 4, 9, 16, 25, 36, 49, 64, 81]\n"
     ]
    }
   ],
   "source": [
    "qudrati_perfetti = [i**2 for i in range(1,10)]\n",
    "print(f\"ciao {qudrati_perfetti}\")"
   ]
  },
  {
   "cell_type": "code",
   "execution_count": 5,
   "id": "b9410fde",
   "metadata": {},
   "outputs": [
    {
     "name": "stdout",
     "output_type": "stream",
     "text": [
      "[4, 16, 36, 64]\n"
     ]
    }
   ],
   "source": [
    "quadrati_perfettipari = [i**2 for i in range(1,10) if i**2%2==0]\n",
    "print(quadrati_perfettipari)\n"
   ]
  },
  {
   "cell_type": "code",
   "execution_count": 6,
   "id": "d721f8a1",
   "metadata": {},
   "outputs": [
    {
     "name": "stdout",
     "output_type": "stream",
     "text": [
      "['scuola', 'classe', 'computer', 'aula', 'cellulare']\n"
     ]
    }
   ],
   "source": [
    "parole= [\"scuola\",\"classe\", \"computer\", \"aula\", \"cellulare\" ]\n",
    "print(parole)"
   ]
  },
  {
   "cell_type": "code",
   "execution_count": 7,
   "id": "c844f328",
   "metadata": {},
   "outputs": [
    {
     "name": "stdout",
     "output_type": "stream",
     "text": [
      "['classe', 'computer', 'cellulare']\n"
     ]
    }
   ],
   "source": [
    "parol_c = [parola for parola in parole if parola[0]==\"c\"]\n",
    "print(parol_c)"
   ]
  },
  {
   "cell_type": "code",
   "execution_count": 8,
   "id": "bc7034cb",
   "metadata": {},
   "outputs": [
    {
     "data": {
      "text/plain": [
       "'TIS'"
      ]
     },
     "execution_count": 8,
     "metadata": {},
     "output_type": "execute_result"
    }
   ],
   "source": [
    "stringa= \"ITIS delpozzo\"\n",
    "stringa[1:4]"
   ]
  },
  {
   "cell_type": "code",
   "execution_count": 9,
   "id": "1d748314",
   "metadata": {},
   "outputs": [
    {
     "data": {
      "text/plain": [
       "'zo'"
      ]
     },
     "execution_count": 9,
     "metadata": {},
     "output_type": "execute_result"
    }
   ],
   "source": [
    "stringa= \"ITIS delpozzo\"\n",
    "stringa[-2:]"
   ]
  },
  {
   "cell_type": "markdown",
   "id": "6e6b9d4c",
   "metadata": {},
   "source": [
    "# liste\n",
    "\n",
    "le liste nsono separati in memoria e vengono puntati \n",
    "a differenza deglia array che sono tutti insieme\n",
    "\n",
    "\n",
    "-liste: inicizzate con gli interi 0....n, mutabili\n",
    "-tuple: inicizzate con gli interi 0....n, mutabili\n",
    "-dizionari: inicizzate con le chiavi, mutabili\n",
    "mutabile possimo cambiare lunghezza ed elementi il contrario immutabile"
   ]
  },
  {
   "cell_type": "code",
   "execution_count": 10,
   "id": "0fd2c149",
   "metadata": {},
   "outputs": [],
   "source": [
    "lista = [1,2,3]\n",
    "stringa =\"123\"\n",
    "\n"
   ]
  },
  {
   "cell_type": "code",
   "execution_count": 11,
   "id": "cb411b14",
   "metadata": {},
   "outputs": [],
   "source": [
    "lista[0]=9"
   ]
  },
  {
   "cell_type": "code",
   "execution_count": 12,
   "id": "7afeb90b",
   "metadata": {},
   "outputs": [
    {
     "ename": "TypeError",
     "evalue": "'str' object does not support item assignment",
     "output_type": "error",
     "traceback": [
      "\u001b[1;31m---------------------------------------------------------------------------\u001b[0m",
      "\u001b[1;31mTypeError\u001b[0m                                 Traceback (most recent call last)",
      "Cell \u001b[1;32mIn[12], line 1\u001b[0m\n\u001b[1;32m----> 1\u001b[0m stringa[\u001b[38;5;241m0\u001b[39m]\u001b[38;5;241m=\u001b[39m\u001b[38;5;241m9\u001b[39m\n",
      "\u001b[1;31mTypeError\u001b[0m: 'str' object does not support item assignment"
     ]
    }
   ],
   "source": [
    "stringa[0]=9"
   ]
  },
  {
   "cell_type": "code",
   "execution_count": 13,
   "id": "61f26a41",
   "metadata": {},
   "outputs": [
    {
     "data": {
      "text/plain": [
       "'923'"
      ]
     },
     "execution_count": 13,
     "metadata": {},
     "output_type": "execute_result"
    }
   ],
   "source": [
    "stringa = \"9\" + stringa[1:]\n",
    "stringa"
   ]
  },
  {
   "cell_type": "code",
   "execution_count": 15,
   "id": "f10a78f8",
   "metadata": {},
   "outputs": [
    {
     "data": {
      "text/plain": [
       "(9, 20)"
      ]
     },
     "execution_count": 15,
     "metadata": {},
     "output_type": "execute_result"
    }
   ],
   "source": [
    "def somma_prodotto(a,b):\n",
    "    return a+b,a*b\n",
    "\n",
    "risultato= somma_prodotto(4,5)\n",
    "risultato\n"
   ]
  },
  {
   "cell_type": "code",
   "execution_count": 17,
   "id": "704ac86b",
   "metadata": {},
   "outputs": [
    {
     "name": "stdout",
     "output_type": "stream",
     "text": [
      "2 1\n"
     ]
    }
   ],
   "source": [
    "#algoritmo di scambio, scambia i punttori l'intirizzamento\n",
    "a, b = 1, 2\n",
    "a, b = b, a\n",
    "print(a, b)"
   ]
  },
  {
   "cell_type": "code",
   "execution_count": 18,
   "id": "3b3767a9",
   "metadata": {},
   "outputs": [],
   "source": [
    "dizionario={\"a\":373, \"b\":892, \"c\":172}"
   ]
  },
  {
   "cell_type": "code",
   "execution_count": 20,
   "id": "8890a14c",
   "metadata": {},
   "outputs": [
    {
     "data": {
      "text/plain": [
       "373"
      ]
     },
     "execution_count": 20,
     "metadata": {},
     "output_type": "execute_result"
    }
   ],
   "source": [
    "dizionario[\"a\"]"
   ]
  },
  {
   "cell_type": "code",
   "execution_count": 21,
   "id": "17b74a3f",
   "metadata": {},
   "outputs": [],
   "source": [
    "dizionario[\"d\"]=\"b\""
   ]
  },
  {
   "cell_type": "code",
   "execution_count": 22,
   "id": "3bd3fbef",
   "metadata": {},
   "outputs": [
    {
     "data": {
      "text/plain": [
       "{'a': 373, 'b': 892, 'c': 172, 'd': 'b'}"
      ]
     },
     "execution_count": 22,
     "metadata": {},
     "output_type": "execute_result"
    }
   ],
   "source": [
    "dizionario"
   ]
  },
  {
   "cell_type": "markdown",
   "id": "8e9bd378",
   "metadata": {},
   "source": [
    "## Cicli for sulle liste"
   ]
  },
  {
   "cell_type": "code",
   "execution_count": 23,
   "id": "d404eb18",
   "metadata": {},
   "outputs": [],
   "source": [
    "lista = [12,34, \"ciao\", somma_prodotto]"
   ]
  },
  {
   "cell_type": "code",
   "execution_count": 31,
   "id": "203cfc39",
   "metadata": {},
   "outputs": [
    {
     "name": "stdout",
     "output_type": "stream",
     "text": [
      "12\n",
      "34\n",
      "ciao\n",
      "<function somma_prodotto at 0x0000028AC789E020>\n"
     ]
    }
   ],
   "source": [
    "#c- style\n",
    "for i in range(0, len(lista)):\n",
    "    print (lista[i])"
   ]
  },
  {
   "cell_type": "code",
   "execution_count": 34,
   "id": "0c4cda5a",
   "metadata": {},
   "outputs": [
    {
     "name": "stdout",
     "output_type": "stream",
     "text": [
      "12\n",
      "34\n",
      "ciao\n",
      "<function somma_prodotto at 0x0000028AC789E020>\n"
     ]
    }
   ],
   "source": [
    "#python -style\n",
    "for elemento in lista:\n",
    "    print (elemento)"
   ]
  },
  {
   "cell_type": "code",
   "execution_count": 32,
   "id": "90242dcb",
   "metadata": {},
   "outputs": [
    {
     "name": "stdout",
     "output_type": "stream",
     "text": [
      " in posizione 0 troviamo 12\n",
      " in posizione 1 troviamo 34\n",
      " in posizione 2 troviamo ciao\n",
      " in posizione 3 troviamo <function somma_prodotto at 0x0000028AC789E020>\n"
     ]
    }
   ],
   "source": [
    "#python style con enum\n",
    "for indice,elemento in enumerate(lista):\n",
    "    print(f\" in posizione {indice} troviamo {elemento}\")"
   ]
  },
  {
   "cell_type": "code",
   "execution_count": 33,
   "id": "c100554d",
   "metadata": {},
   "outputs": [],
   "source": [
    "lista2=[100,101,102,103]"
   ]
  },
  {
   "cell_type": "code",
   "execution_count": 35,
   "id": "60381518",
   "metadata": {},
   "outputs": [
    {
     "name": "stdout",
     "output_type": "stream",
     "text": [
      "12 - 100\n",
      "34 - 101\n",
      "ciao - 102\n",
      "<function somma_prodotto at 0x0000028AC789E020> - 103\n"
     ]
    }
   ],
   "source": [
    "#c-style for entrambe le liste\n",
    "for i in range(0, len(lista)):\n",
    "    print(f\"{lista[i]} - {lista2[i]}\")"
   ]
  },
  {
   "cell_type": "code",
   "execution_count": 36,
   "id": "5df60943",
   "metadata": {},
   "outputs": [
    {
     "name": "stdout",
     "output_type": "stream",
     "text": [
      "12 - 100\n",
      "34 - 101\n",
      "ciao - 102\n",
      "<function somma_prodotto at 0x0000028AC789E020> - 103\n"
     ]
    }
   ],
   "source": [
    "#python-style for entrambe le liste\n",
    "for elemento,elemento2 in zip(lista,lista2):\n",
    "    print(f\"{elemento} - {elemento2}\")"
   ]
  },
  {
   "cell_type": "code",
   "execution_count": 3,
   "id": "80de943b",
   "metadata": {},
   "outputs": [
    {
     "name": "stdout",
     "output_type": "stream",
     "text": [
      "[100, 101, 102, 103, 100, 101, 102, 103, 100, 101, 102, 103]\n"
     ]
    }
   ],
   "source": [
    "lista2=[100,101,102,103]\n",
    "print(lista2*3)\n",
    "\n",
    "\n"
   ]
  },
  {
   "cell_type": "code",
   "execution_count": 5,
   "id": "d1da9947",
   "metadata": {},
   "outputs": [],
   "source": [
    "#prima_meta = Y[:indice_meta]  #lo 0 si può anche non scrivere\n",
    "#indice_meta = lunghezza_Y // 2 #da con // subito un intero \n",
    "#Y = list(range 0,10) #renge iteratore"
   ]
  },
  {
   "cell_type": "markdown",
   "id": "f0263ea3",
   "metadata": {},
   "source": [
    "## dizionari\n"
   ]
  },
  {
   "cell_type": "code",
   "execution_count": 6,
   "id": "e6f8d2aa",
   "metadata": {},
   "outputs": [],
   "source": [
    "d={\"a\":[\"albero\",\"albergo\"], \"b\":[\"bello\"], \"c\":[\"ciao\",\"cellulare\"]}"
   ]
  },
  {
   "cell_type": "code",
   "execution_count": 7,
   "id": "c3187b96",
   "metadata": {},
   "outputs": [
    {
     "data": {
      "text/plain": [
       "{'a': ['albero', 'albergo'], 'b': ['bello'], 'c': ['ciao', 'cellulare']}"
      ]
     },
     "execution_count": 7,
     "metadata": {},
     "output_type": "execute_result"
    }
   ],
   "source": [
    "d\n"
   ]
  },
  {
   "cell_type": "code",
   "execution_count": 9,
   "id": "a226da6a",
   "metadata": {},
   "outputs": [
    {
     "name": "stdout",
     "output_type": "stream",
     "text": [
      "la chiave è:a e il valore è ['albero', 'albergo']\n",
      "la chiave è:b e il valore è ['bello']\n",
      "la chiave è:c e il valore è ['ciao', 'cellulare']\n"
     ]
    }
   ],
   "source": [
    "for chiave in d:\n",
    "    print(f\"la chiave è:{chiave} e il valore è {d[chiave]}\")"
   ]
  },
  {
   "cell_type": "code",
   "execution_count": 10,
   "id": "271dd223",
   "metadata": {},
   "outputs": [
    {
     "name": "stdout",
     "output_type": "stream",
     "text": [
      "la chiave è:a e il valore è ['albero', 'albergo']\n",
      "la chiave è:b e il valore è ['bello']\n",
      "la chiave è:c e il valore è ['ciao', 'cellulare']\n"
     ]
    }
   ],
   "source": [
    "for chiave,valore in d.items():\n",
    "    print(f\"la chiave è:{chiave} e il valore è {valore}\")"
   ]
  },
  {
   "cell_type": "code",
   "execution_count": 12,
   "id": "9ec27b1f",
   "metadata": {},
   "outputs": [
    {
     "name": "stdout",
     "output_type": "stream",
     "text": [
      "la prima parola della lista con iniziale a è albero\n",
      "la prima parola della lista con iniziale b è bello\n",
      "la prima parola della lista con iniziale c è ciao\n"
     ]
    }
   ],
   "source": [
    "for chiave in d:\n",
    "    print(f\"la prima parola della lista con iniziale {chiave} è {d[chiave][0]}\")"
   ]
  },
  {
   "cell_type": "markdown",
   "id": "7e6e6052",
   "metadata": {},
   "source": [
    "# lettura sul file"
   ]
  },
  {
   "cell_type": "code",
   "execution_count": 13,
   "id": "5eb5e99c",
   "metadata": {},
   "outputs": [],
   "source": [
    "file = open(\"file.txt\", \"r\")\n",
    "righe=file.readlines()\n",
    "file.close()"
   ]
  },
  {
   "cell_type": "code",
   "execution_count": 17,
   "id": "a9cf74bc",
   "metadata": {},
   "outputs": [
    {
     "name": "stdout",
     "output_type": "stream",
     "text": [
      "ciao\n",
      "bella \n",
      "cia\n"
     ]
    }
   ],
   "source": [
    "for riga in righe:\n",
    "    print(riga[:-1])"
   ]
  },
  {
   "cell_type": "markdown",
   "id": "cb5f7487",
   "metadata": {},
   "source": [
    "## kagle e chat gpt"
   ]
  },
  {
   "cell_type": "markdown",
   "id": "313ee42e",
   "metadata": {},
   "source": [
    "propone gare di programmazione fatto con notebook jupite si può collegare il notebook\n",
    "\n",
    "chat gpt \n",
    "lavora sui token ogni token vuol dire un numero"
   ]
  }
 ],
 "metadata": {
  "kernelspec": {
   "display_name": "Python 3 (ipykernel)",
   "language": "python",
   "name": "python3"
  },
  "language_info": {
   "codemirror_mode": {
    "name": "ipython",
    "version": 3
   },
   "file_extension": ".py",
   "mimetype": "text/x-python",
   "name": "python",
   "nbconvert_exporter": "python",
   "pygments_lexer": "ipython3",
   "version": "3.11.4"
  }
 },
 "nbformat": 4,
 "nbformat_minor": 5
}
