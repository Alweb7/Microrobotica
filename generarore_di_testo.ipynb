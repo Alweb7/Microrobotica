{
 "cells": [
  {
   "cell_type": "code",
   "execution_count": 1,
   "id": "d2396ebf",
   "metadata": {},
   "outputs": [],
   "source": [
    "import random"
   ]
  },
  {
   "cell_type": "code",
   "execution_count": 2,
   "id": "fb0e3156",
   "metadata": {},
   "outputs": [],
   "source": [
    "import random\n",
    "\n",
    "class TextGenerator():\n",
    "    def __init__(self, file, punteggiatura):\n",
    "        self.file = file\n",
    "        self.punteggiatura = punteggiatura\n",
    "        self.parole = []\n",
    "        self.successivi = {}\n",
    "\n",
    "    def fileToListaParole(self):\n",
    "        with open(self.file, \"r\") as file:\n",
    "            righe = file.readlines()\n",
    "\n",
    "        righe_senza_return = [riga[:-1] for riga in righe if len(riga) > 1]\n",
    "        libro = \" \".join(righe_senza_return).lower()\n",
    "\n",
    "        for carattere in self.punteggiatura:\n",
    "            libro = libro.replace(carattere, \" \")\n",
    "        self.parole = [parola for parola in libro.split() if len(parola) > 0]\n",
    "\n",
    "    def creaDizionarioSuccessive(self):\n",
    "        for i in range(len(self.parole) - 1):\n",
    "            parola_corrente = self.parole[i]\n",
    "            parola_successiva = self.parole[i + 1]\n",
    "\n",
    "            if parola_corrente in self.successivi:\n",
    "                self.successivi[parola_corrente].append(parola_successiva)\n",
    "            else:\n",
    "                self.successivi[parola_corrente] = [parola_successiva]\n",
    "\n",
    "    def generaFraseCasuale(self, lunghezza_frase, parola_iniziale):\n",
    "        \n",
    "        var = parola_iniziale\n",
    "        stringa = \"\"\n",
    "        spazio = \" \"\n",
    "\n",
    "        if var in self.successivi:\n",
    "            for _ in range(lunghezza_frase):\n",
    "                var1 = random.choice(self.successivi[var])\n",
    "                var = var1\n",
    "                stringa = stringa + var1 + spazio\n",
    "        else:\n",
    "            print(f\"'{var}' non è nel dizionario delle parole successive.\")\n",
    "\n",
    "        return stringa"
   ]
  },
  {
   "cell_type": "code",
   "execution_count": 3,
   "id": "08baacd0",
   "metadata": {},
   "outputs": [],
   "source": [
    "file_nome = \"sei_personaggi_in_cerca_dautore_Luigi_Pirandello.txt\"\n",
    "punteggiatura = [\",\", \".\", \":\", \";\", \"(\", \")\", \"?\", \"!\", \"-\", \"»\"]"
   ]
  },
  {
   "cell_type": "code",
   "execution_count": 4,
   "id": "2d491c6d",
   "metadata": {},
   "outputs": [
    {
     "name": "stdout",
     "output_type": "stream",
     "text": [
      "lunghezza frase: 10\n",
      "parola iniziale: sei\n"
     ]
    }
   ],
   "source": [
    "generator = TextGenerator(file_nome, punteggiatura)\n",
    "generator.fileToListaParole()\n",
    "generator.creaDizionarioSuccessive()\n",
    "\n",
    "lunghezza_frase_desiderata = int(input(\"lunghezza frase: \"))\n",
    "parola_iniziale = input(\"parola iniziale: \") "
   ]
  },
  {
   "cell_type": "code",
   "execution_count": 5,
   "id": "1f141b53",
   "metadata": {},
   "outputs": [
    {
     "name": "stdout",
     "output_type": "stream",
     "text": [
      "La frase generata è: sei procurata e piã¹ di tutti i personaggi il suggeritore quando \n"
     ]
    }
   ],
   "source": [
    "frase_generata = generator.generaFraseCasuale(lunghezza_frase_desiderata, parola_iniziale)\n",
    "print(f\"La frase generata è: {parola_iniziale} {frase_generata}\")"
   ]
  },
  {
   "cell_type": "code",
   "execution_count": null,
   "id": "6bf897d6",
   "metadata": {},
   "outputs": [],
   "source": []
  }
 ],
 "metadata": {
  "kernelspec": {
   "display_name": "Python 3 (ipykernel)",
   "language": "python",
   "name": "python3"
  },
  "language_info": {
   "codemirror_mode": {
    "name": "ipython",
    "version": 3
   },
   "file_extension": ".py",
   "mimetype": "text/x-python",
   "name": "python",
   "nbconvert_exporter": "python",
   "pygments_lexer": "ipython3",
   "version": "3.11.4"
  }
 },
 "nbformat": 4,
 "nbformat_minor": 5
}
