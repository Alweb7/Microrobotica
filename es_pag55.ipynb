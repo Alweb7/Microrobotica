{
 "cells": [
  {
   "cell_type": "code",
   "execution_count": 1,
   "id": "8bc2d63a",
   "metadata": {},
   "outputs": [
    {
     "name": "stdout",
     "output_type": "stream",
     "text": [
      "Valore di intero: 42\n",
      "Tipo di intero: <class 'int'>\n",
      "Valore di stringa: Ciao, mondo!\n",
      "Tipo di stringa: <class 'str'>\n",
      "Valore di floating_point: 3.14\n",
      "Tipo di floating_point: <class 'float'>\n",
      "Valore di booleano: True\n",
      "Tipo di booleano: <class 'bool'>\n"
     ]
    }
   ],
   "source": [
    "# Inizializzazione delle variabili\n",
    "intero = 42\n",
    "stringa = \"Ciao, mondo!\"\n",
    "nfloat = 3.14\n",
    "booleano = True\n",
    "\n",
    "print(\"Valore di intero:\", intero)\n",
    "print(\"Tipo di intero:\", type(intero))\n",
    "\n",
    "print(\"Valore di stringa:\", stringa)\n",
    "print(\"Tipo di stringa:\", type(stringa))\n",
    "\n",
    "print(\"Valore di floating_point:\", nfloat)\n",
    "print(\"Tipo di floating_point:\", type(nfloat))\n",
    "\n",
    "print(\"Valore di booleano:\", booleano)\n",
    "print(\"Tipo di booleano:\", type(booleano))"
   ]
  },
  {
   "cell_type": "code",
   "execution_count": 2,
   "id": "21d87e8b",
   "metadata": {},
   "outputs": [
    {
     "name": "stdout",
     "output_type": "stream",
     "text": [
      "Valore di intero: 42\n",
      "Tipo di intero: <class 'int'>\n",
      "Valore di stringa: Ciao, mondo!\n",
      "Tipo di stringa: <class 'str'>\n",
      "Valore di nfloat: 3.14\n",
      "Tipo di nfloat: <class 'float'>\n",
      "Valore di booleano: True\n",
      "Tipo di booleano: <class 'bool'>\n"
     ]
    }
   ],
   "source": [
    "intero, stringa, nfloat, booleano = 42, \"Ciao, mondo!\", 3.14, True\n",
    "\n",
    "\n",
    "print(\"Valore di intero:\", intero)\n",
    "print(\"Tipo di intero:\", type(intero))\n",
    "\n",
    "print(\"Valore di stringa:\", stringa)\n",
    "print(\"Tipo di stringa:\", type(stringa))\n",
    "\n",
    "print(\"Valore di nfloat:\", nfloat)\n",
    "print(\"Tipo di nfloat:\", type(nfloat))\n",
    "\n",
    "print(\"Valore di booleano:\", booleano)\n",
    "print(\"Tipo di booleano:\", type(booleano))"
   ]
  },
  {
   "cell_type": "code",
   "execution_count": 3,
   "id": "a2c268a9",
   "metadata": {},
   "outputs": [
    {
     "name": "stdout",
     "output_type": "stream",
     "text": [
      "Valore di prima: 10, Valore di seconda: 20\n",
      "Nuovo valore di prima: 20, Nuovo valore di seconda: 10\n"
     ]
    }
   ],
   "source": [
    "prima = 10\n",
    "seconda = 20\n",
    "\n",
    "# Stampa i valori iniziali delle variabili con una sola f-string\n",
    "print(f\"Valore di prima: {prima}, Valore di seconda: {seconda}\")\n",
    "\n",
    "# Scambia i valori tra le due variabili\n",
    "prima, seconda = seconda, prima\n",
    "\n",
    "# Stampa i nuovi valori delle variabili con una sola f-string\n",
    "print(f\"Nuovo valore di prima: {prima}, Nuovo valore di seconda: {seconda}\")"
   ]
  },
  {
   "cell_type": "code",
   "execution_count": 4,
   "id": "2e092ef7",
   "metadata": {},
   "outputs": [
    {
     "name": "stdout",
     "output_type": "stream",
     "text": [
      "Inserisci una parola: ciao\n",
      "Lettera iniziale: c\n",
      "Lettera finale: o\n"
     ]
    }
   ],
   "source": [
    "parola = input(\"Inserisci una parola: \")\n",
    "\n",
    "lunghezza_parola = len(parola)\n",
    "if lunghezza_parola >= 2:\n",
    "    lettera_iniziale = parola[0]\n",
    "    lettera_finale = parola[-1]\n",
    "    print(f\"Lettera iniziale: {lettera_iniziale}\")\n",
    "    print(f\"Lettera finale: {lettera_finale}\")\n",
    "else:\n",
    "    print(\"La parola inserita è troppo corta per avere una lettera iniziale e finale.\")"
   ]
  },
  {
   "cell_type": "code",
   "execution_count": 5,
   "id": "4792b38b",
   "metadata": {},
   "outputs": [
    {
     "name": "stdout",
     "output_type": "stream",
     "text": [
      "Inserisci una parola: ciao\n",
      "Parola senza lettere iniziali e finali: ia\n"
     ]
    }
   ],
   "source": [
    "parola = input(\"Inserisci una parola: \")\n",
    "\n",
    "lunghezza_parola = len(parola)\n",
    "if lunghezza_parola >= 3:\n",
    "    parola_senza_estremi = parola[1:-1]\n",
    "    print(f\"Parola senza lettere iniziali e finali: {parola_senza_estremi}\")\n",
    "else:\n",
    "    print(\"La parola inserita è troppo corta per rimuovere lettere iniziali e finali.\")"
   ]
  },
  {
   "cell_type": "code",
   "execution_count": 6,
   "id": "e7db62d8",
   "metadata": {},
   "outputs": [
    {
     "name": "stdout",
     "output_type": "stream",
     "text": [
      "Inserisci una parola: ciao\n",
      "[4, 16, 36, 64]\n",
      "Caratteri con indice dispari: \n"
     ]
    }
   ],
   "source": [
    "parola = input(\"Inserisci una parola: \")\n",
    "\n",
    "caratteri_dispari = \"\"\n",
    "quadrati_perfetti_pari = [i**2 for i in range(1, 10) if (i**2) % 2 == 0]\n",
    "print(quadrati_perfetti_pari)\n",
    "\n",
    "print(f\"Caratteri con indice dispari: {caratteri_dispari}\")"
   ]
  },
  {
   "cell_type": "code",
   "execution_count": 7,
   "id": "938bfd8f",
   "metadata": {},
   "outputs": [
    {
     "name": "stdout",
     "output_type": "stream",
     "text": [
      "Inserisci una parola: ciao\n",
      "Parola invertita: cia\n"
     ]
    }
   ],
   "source": [
    "parola = input(\"Inserisci una parola: \")\n",
    "parola_invertita = parola[:-1]\n",
    "print(f\"Parola invertita: {parola_invertita}\")"
   ]
  },
  {
   "cell_type": "code",
   "execution_count": 8,
   "id": "3d327de4",
   "metadata": {},
   "outputs": [
    {
     "name": "stdout",
     "output_type": "stream",
     "text": [
      "Inserisci una parola di almeno 8 lettere: algoritmo\n",
      "Parola con '?' al posto della terza lettera: al?oritmo\n"
     ]
    }
   ],
   "source": [
    "parola = input(\"Inserisci una parola di almeno 8 lettere: \")\n",
    "if len(parola) >= 8:\n",
    "    parola_modificata = parola[:2] + \"?\" + parola[3:]\n",
    "    print(f\"Parola con '?' al posto della terza lettera: {parola_modificata}\")\n",
    "else:\n",
    "    print(\"La parola inserita non ha almeno 8 lettere.\")"
   ]
  },
  {
   "cell_type": "code",
   "execution_count": 9,
   "id": "652cb012",
   "metadata": {},
   "outputs": [
    {
     "name": "stdout",
     "output_type": "stream",
     "text": [
      "Distanza tra (-1, 3) e (5, -2) è 7.810249675906654\n"
     ]
    }
   ],
   "source": [
    "import math\n",
    "\n",
    "# Assegna le coordinate \n",
    "punto_A = (-1, 3)\n",
    "punto_B = (5, -2)\n",
    "# Estrai le coordinate \n",
    "x1, y1 = punto_A\n",
    "x2, y2 = punto_B\n",
    "# Calcola la distanza \n",
    "distanza = math.sqrt((x2 - x1)**2 + (y2 - y1)**2)\n",
    "# Stampare la distanza tra i due punti\n",
    "print(f\"Distanza tra {punto_A} e {punto_B} è {distanza}\")"
   ]
  },
  {
   "cell_type": "code",
   "execution_count": 10,
   "id": "ab0c045f",
   "metadata": {},
   "outputs": [
    {
     "name": "stdout",
     "output_type": "stream",
     "text": [
      "Lista senza il primo e l'ultimo voto: [7, 9, 6, 7, 8]\n",
      "Lista con il quarto voto sostituito da 10: [8, 7, 9, 10, 7, 8, 10]\n",
      "Primi 3 voti della lista: [8, 7, 9]\n"
     ]
    }
   ],
   "source": [
    "voti = [8, 7, 9, 6, 7, 8, 10]\n",
    "# Stampa la lista senza il primo e l'ultimo voto\n",
    "votisenzaprimoultimo = voti[1:-1]\n",
    "print(\"Lista senza il primo e l'ultimo voto:\", votisenzaprimoultimo)\n",
    "voti[3] = 10\n",
    "print(\"Lista con il quarto voto sostituito da 10:\", voti)\n",
    "primi_3_voti = voti[:3]\n",
    "print(\"Primi 3 voti della lista:\", primi_3_voti)"
   ]
  },
  {
   "cell_type": "code",
   "execution_count": 23,
   "id": "fcc362f6",
   "metadata": {},
   "outputs": [
    {
     "name": "stdout",
     "output_type": "stream",
     "text": [
      "Lista Y: [0, 1, 2, 3, 4, 5, 6, 7, 8, 9]\n",
      "Prima metà: [0, 1, 2, 3, 4, 15]\n",
      "Seconda metà: [5, 6, 7, 8, 9]\n"
     ]
    }
   ],
   "source": [
    "Y = list(range (0, 10)) #renge iteratore\n",
    "lunghezza_Y = len(Y)\n",
    "indice_meta = lunghezza_Y // 2 #da con // subito un intero \n",
    "# Crea due nuove liste\n",
    "prima_meta = Y[:indice_meta]  #lo 0 si può anche non scrivere\n",
    "seconda_meta = Y[indice_meta:]\n",
    "prima_meta.append(15)\n",
    "print(\"Lista Y:\", Y)\n",
    "print(\"Prima metà:\", prima_meta)\n",
    "print(\"Seconda metà:\", seconda_meta)"
   ]
  },
  {
   "cell_type": "code",
   "execution_count": 12,
   "id": "623fd05f",
   "metadata": {},
   "outputs": [
    {
     "name": "stdout",
     "output_type": "stream",
     "text": [
      "Lista concatenata: [0, 1, 2, 3, 4, 5, 6, 7]\n"
     ]
    }
   ],
   "source": [
    "a = [0, 1, 2, 3]\n",
    "b = [4, 5, 6, 7]\n",
    "lista = a + b\n",
    "print(\"Lista concatenata:\", lista)"
   ]
  },
  {
   "cell_type": "code",
   "execution_count": 13,
   "id": "840fae77",
   "metadata": {},
   "outputs": [
    {
     "name": "stdout",
     "output_type": "stream",
     "text": [
      "persona: francesco numero: [3282122657]\n",
      "persona: rocco numero: [3282122399]\n",
      "persona: meme numero: [3282122359]\n",
      "persona: francesco numero: [3282122657]\n",
      "persona: rocco numero: [3282122399]\n",
      "persona: meme numero: [3282122359]\n",
      "persona: jack numero: [3282122357]\n"
     ]
    }
   ],
   "source": [
    "rubrica={\"francesco\":[3282122657],\"rocco\":[3282122399],\"meme\":[3282122359]}\n",
    "for chiave in rubrica:\n",
    "    print(f\"persona: {chiave} numero: {rubrica[chiave]}\")\n",
    "rubrica[\"jack\"]=[3282122357]\n",
    "for chiave in rubrica:\n",
    "    print(f\"persona: {chiave} numero: {rubrica[chiave]}\")"
   ]
  },
  {
   "cell_type": "code",
   "execution_count": 1,
   "id": "d99d8b20",
   "metadata": {},
   "outputs": [
    {
     "name": "stdout",
     "output_type": "stream",
     "text": [
      "Inserisci il tuo nome: tommaso\n",
      "Il tuo nome invertito è: osammot\n"
     ]
    }
   ],
   "source": [
    "nome = input(\"Inserisci il tuo nome: \")\n",
    "print(\"Il tuo nome invertito è:\", (nome[::-1]))\n"
   ]
  },
  {
   "cell_type": "code",
   "execution_count": 15,
   "id": "d8692717",
   "metadata": {},
   "outputs": [
    {
     "name": "stdout",
     "output_type": "stream",
     "text": [
      "Inserisci il tuo nome: tommaso\n",
      "Il tuo nome censurato è: t******\n"
     ]
    }
   ],
   "source": [
    "nome = input(\"Inserisci il tuo nome: \")\n",
    "nome_censurato = nome[0] + '*' * (len(nome) - 1)\n",
    "print(\"Il tuo nome censurato è:\", nome_censurato)\n"
   ]
  },
  {
   "cell_type": "code",
   "execution_count": 16,
   "id": "46bdeaec",
   "metadata": {},
   "outputs": [
    {
     "name": "stdout",
     "output_type": "stream",
     "text": [
      "Inserisci le coordinate del primo punto (x1 y1): 1 2\n",
      "Inserisci le coordinate del secondo punto (x2 y2): 3 4\n",
      "La distanza tra i due punti è: 2.8284271247461903\n"
     ]
    }
   ],
   "source": [
    "def calcola_distanza(punto1, punto2):\n",
    "    x1, y1 = punto1\n",
    "    x2, y2 = punto2\n",
    "    distanza = ((x2 - x1) ** 2 + (y2 - y1) ** 2) ** 0.5\n",
    "    return distanza\n",
    "\n",
    "punto1 = tuple(map(float, input(\"Inserisci le coordinate del primo punto (x1 y1): \").split()))\n",
    "punto2 = tuple(map(float, input(\"Inserisci le coordinate del secondo punto (x2 y2): \").split()))\n",
    "\n",
    "distanza = calcola_distanza(punto1, punto2)\n",
    "print(\"La distanza tra i due punti è:\", distanza)\n"
   ]
  },
  {
   "cell_type": "code",
   "execution_count": 21,
   "id": "cfd75aea",
   "metadata": {},
   "outputs": [
    {
     "name": "stdout",
     "output_type": "stream",
     "text": [
      "Inserisci il primo numero: 1\n",
      "Inserisci il secondo numero: 2\n",
      "La lista dei risultati è: [5.0, 9.0, -3.0, 1.0]\n"
     ]
    }
   ],
   "source": [
    "numero1 = float(input(\"Inserisci il primo numero: \"))\n",
    "numero2 = float(input(\"Inserisci il secondo numero: \"))\n",
    "\n",
    "risultati = [\n",
    "    numero1 ** 2 + numero2 ** 2,\n",
    "    (numero1 + numero2) ** 2,\n",
    "    numero1 ** 2 - numero2 ** 2,\n",
    "    (numero1 - numero2) ** 2\n",
    "]\n",
    "\n",
    "print(\"La lista dei risultati è:\", risultati)\n"
   ]
  },
  {
   "cell_type": "code",
   "execution_count": 22,
   "id": "f9d89a51",
   "metadata": {},
   "outputs": [
    {
     "name": "stdout",
     "output_type": "stream",
     "text": [
      "Inserisci il primo numero: 1\n",
      "Inserisci il secondo numero: 3\n",
      "Il dizionario dei risultati è: {'Media Aritmetica': 2.0, 'Media Geometrica': 1.7320508075688772}\n"
     ]
    }
   ],
   "source": [
    "numero1 = float(input(\"Inserisci il primo numero: \"))\n",
    "numero2 = float(input(\"Inserisci il secondo numero: \"))\n",
    "\n",
    "media_aritmetica = (numero1 + numero2) / 2 #media aritmetica\n",
    "media_geometrica = (numero1 * numero2) ** 0.5 #media ceometrica\n",
    "\n",
    "dizionario = {\n",
    "    \"Media Aritmetica\": media_aritmetica,\n",
    "    \"Media Geometrica\": media_geometrica\n",
    "}\n",
    "\n",
    "print(\"Il dizionario dei risultati è:\", dizionario)\n"
   ]
  }
 ],
 "metadata": {
  "kernelspec": {
   "display_name": "Python 3 (ipykernel)",
   "language": "python",
   "name": "python3"
  },
  "language_info": {
   "codemirror_mode": {
    "name": "ipython",
    "version": 3
   },
   "file_extension": ".py",
   "mimetype": "text/x-python",
   "name": "python",
   "nbconvert_exporter": "python",
   "pygments_lexer": "ipython3",
   "version": "3.11.4"
  }
 },
 "nbformat": 4,
 "nbformat_minor": 5
}
